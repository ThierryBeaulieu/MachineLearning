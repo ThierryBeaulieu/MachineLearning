{
  "nbformat": 4,
  "nbformat_minor": 0,
  "metadata": {
    "colab": {
      "provenance": [],
      "include_colab_link": true
    },
    "kernelspec": {
      "name": "python3",
      "display_name": "Python 3"
    },
    "language_info": {
      "name": "python"
    }
  },
  "cells": [
    {
      "cell_type": "markdown",
      "metadata": {
        "id": "view-in-github",
        "colab_type": "text"
      },
      "source": [
        "<a href=\"https://colab.research.google.com/github/ThierryBeaulieu/MachineLearning/blob/master/MachineLearning.ipynb\" target=\"_parent\"><img src=\"https://colab.research.google.com/assets/colab-badge.svg\" alt=\"Open In Colab\"/></a>"
      ]
    },
    {
      "cell_type": "code",
      "execution_count": null,
      "metadata": {
        "id": "7S0I9Ey39tXu"
      },
      "outputs": [],
      "source": [
        "# Neural Network From scratch"
      ]
    },
    {
      "cell_type": "markdown",
      "source": [
        "## Neural Network From Scratch"
      ],
      "metadata": {
        "id": "D11omb1v-FTj"
      }
    },
    {
      "cell_type": "code",
      "source": [],
      "metadata": {
        "id": "CrWZIjHR-IKe"
      },
      "execution_count": null,
      "outputs": []
    }
  ]
}